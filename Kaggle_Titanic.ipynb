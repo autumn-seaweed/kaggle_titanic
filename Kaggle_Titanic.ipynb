{
 "cells": [
  {
   "cell_type": "code",
   "execution_count": 155,
   "metadata": {
    "collapsed": true
   },
   "outputs": [],
   "source": [
    "%matplotlib inline\n",
    "\n",
    "import pandas as pd\n",
    "import csv\n",
    "import scipy\n",
    "from sklearn import svm, preprocessing\n",
    "from sklearn.ensemble import RandomForestClassifier\n",
    "import matplotlib.pyplot as plt\n",
    "import numpy as np\n",
    "from matplotlib import style\n",
    "style.use('ggplot')"
   ]
  },
  {
   "cell_type": "code",
   "execution_count": 174,
   "metadata": {},
   "outputs": [
    {
     "name": "stdout",
     "output_type": "stream",
     "text": [
      "   PassengerId  Survived  Pclass                     Name  Sex   Age  SibSp  \\\n",
      "0            1         0       3  Braund, Mr. Owen Harris    1  22.0      1   \n",
      "\n",
      "   Parch     Ticket  Fare Cabin Embarked  \n",
      "0      0  A/5 21171  7.25   NaN        S  \n"
     ]
    },
    {
     "data": {
      "text/plain": [
       "array([nan, 'C85', 'C123', 'E46', 'G6', 'C103', 'D56', 'A6', 'C23 C25 C27',\n",
       "       'B78', 'D33', 'B30', 'C52', 'B28', 'C83', 'F33', 'F G73', 'E31',\n",
       "       'A5', 'D10 D12', 'D26', 'C110', 'B58 B60', 'E101', 'F E69', 'D47',\n",
       "       'B86', 'F2', 'C2', 'E33', 'B19', 'A7', 'C49', 'F4', 'A32', 'B4',\n",
       "       'B80', 'A31', 'D36', 'D15', 'C93', 'C78', 'D35', 'C87', 'B77',\n",
       "       'E67', 'B94', 'C125', 'C99', 'C118', 'D7', 'A19', 'B49', 'D',\n",
       "       'C22 C26', 'C106', 'C65', 'E36', 'C54', 'B57 B59 B63 B66', 'C7',\n",
       "       'E34', 'C32', 'B18', 'C124', 'C91', 'E40', 'T', 'C128', 'D37',\n",
       "       'B35', 'E50', 'C82', 'B96 B98', 'E10', 'E44', 'A34', 'C104', 'C111',\n",
       "       'C92', 'E38', 'D21', 'E12', 'E63', 'A14', 'B37', 'C30', 'D20',\n",
       "       'B79', 'E25', 'D46', 'B73', 'C95', 'B38', 'B39', 'B22', 'C86',\n",
       "       'C70', 'A16', 'C101', 'C68', 'A10', 'E68', 'B41', 'A20', 'D19',\n",
       "       'D50', 'D9', 'A23', 'B50', 'A26', 'D48', 'E58', 'C126', 'B71',\n",
       "       'B51 B53 B55', 'D49', 'B5', 'B20', 'F G63', 'C62 C64', 'E24', 'C90',\n",
       "       'C45', 'E8', 'B101', 'D45', 'C46', 'D30', 'E121', 'D11', 'E77',\n",
       "       'F38', 'B3', 'D6', 'B82 B84', 'D17', 'A36', 'B102', 'B69', 'E49',\n",
       "       'C47', 'D28', 'E17', 'A24', 'C50', 'B42', 'C148'], dtype=object)"
      ]
     },
     "execution_count": 174,
     "metadata": {},
     "output_type": "execute_result"
    }
   ],
   "source": [
    "df = pd.read_csv(\"train.csv\")\n",
    "# df = df[pd.notnull(df['Age'])]\n",
    "df['Sex'] = df['Sex'].replace('male',1).replace('female',2)\n",
    "print(df.head(1))\n",
    "df['Cabin'].unique()\n"
   ]
  },
  {
   "cell_type": "code",
   "execution_count": 80,
   "metadata": {},
   "outputs": [
    {
     "data": {
      "text/plain": [
       "SVC(C=1.0, cache_size=200, class_weight=None, coef0=0.0,\n",
       "  decision_function_shape='ovr', degree=3, gamma='auto', kernel='linear',\n",
       "  max_iter=-1, probability=False, random_state=None, shrinking=True,\n",
       "  tol=0.001, verbose=False)"
      ]
     },
     "execution_count": 80,
     "metadata": {},
     "output_type": "execute_result"
    }
   ],
   "source": [
    "X = df[['Fare', 'Age']].values\n",
    "y = df['Survived'].values\n",
    "X = preprocessing.scale(X)\n",
    "\n",
    "clf = svm.SVC(kernel='linear', C = 1.0)\n",
    "clf.fit(X,y)"
   ]
  },
  {
   "cell_type": "code",
   "execution_count": 75,
   "metadata": {},
   "outputs": [
    {
     "name": "stdout",
     "output_type": "stream",
     "text": [
      "[0]\n"
     ]
    }
   ],
   "source": [
    "print(clf.predict(np.array([[1,10]])))"
   ]
  },
  {
   "cell_type": "code",
   "execution_count": 83,
   "metadata": {},
   "outputs": [
    {
     "name": "stdout",
     "output_type": "stream",
     "text": [
      "[ 1.03050605 -0.10301903]\n"
     ]
    },
    {
     "data": {
      "image/png": "[encoded data removed]",
      "text/plain": [
       "<matplotlib.figure.Figure at 0xfd12510>"
      ]
     },
     "metadata": {},
     "output_type": "display_data"
    }
   ],
   "source": [
    "w = clf.coef_[0]\n",
    "print(w)\n",
    "\n",
    "a = -w[0] / w[1]\n",
    "xx = np.linspace(0,1)\n",
    "yy = a * xx - clf.intercept_[0] / w[1]\n",
    "h0 = plt.plot(xx, yy, 'k-', label=\"non weighted div\")\n",
    "\n",
    "plt.scatter(X[:, 0], X[:, 1], c = y)\n",
    "plt.legend()\n",
    "plt.show()"
   ]
  },
  {
   "cell_type": "code",
   "execution_count": 183,
   "metadata": {},
   "outputs": [
    {
     "name": "stdout",
     "output_type": "stream",
     "text": [
      "714\n",
      "Accuracy: 77.5\n"
     ]
    }
   ],
   "source": [
    "FEATURES = ['Pclass', 'Sex', 'Age', 'SibSp', 'Parch', 'Fare', 'Cabin']\n",
    "\n",
    "def Build_Data_Set():\n",
    "    data_df = pd.DataFrame.from_csv(\"train.csv\")\n",
    "\n",
    "    data_df = data_df[pd.notnull(data_df['Age'])]\n",
    "    data_df['Sex'] = data_df['Sex'].replace('male',1).replace('female',2)\n",
    "    data_df['Cabin'] = data_df['Cabin'][1]\n",
    "    data_df['Cabin'] = data_df['Cabin'].fillna(value='U')\n",
    "    data_df['Cabin'] = data_df['Cabin'].replace('A',1).replace('B',2).replace('C',3).replace('D',4).replace('E',5).replace('F',6).replace('U',7)\n",
    "    \n",
    "    data_df = data_df.reindex(np.random.permutation(data_df.index))\n",
    "    \n",
    "    X = np.array(data_df[FEATURES].values)#.tolist())\n",
    "\n",
    "    y = data_df['Survived'].values\n",
    "\n",
    "    X = preprocessing.scale(X)\n",
    "\n",
    "    return X,y\n",
    "\n",
    "def Analysis():\n",
    "\n",
    "    test_size = 200\n",
    "    X, y = Build_Data_Set()\n",
    "    print(len(X))\n",
    "\n",
    "    \n",
    "    clf = svm.SVC(kernel=\"linear\", C= 1.0)\n",
    "    clf.fit(X[:-test_size],y[:-test_size])\n",
    "\n",
    "    correct_count = 0\n",
    "\n",
    "    for x in range(1, test_size+1):\n",
    "        if clf.predict([X[-x]])[0] == y[-x]:\n",
    "            correct_count += 1\n",
    "\n",
    "    print(\"Accuracy:\", (correct_count/test_size) * 100.00)\n",
    "\n",
    "Analysis()"
   ]
  },
  {
   "cell_type": "code",
   "execution_count": 141,
   "metadata": {},
   "outputs": [
    {
     "name": "stdout",
     "output_type": "stream",
     "text": [
      "891\n"
     ]
    },
    {
     "data": {
      "text/html": [
       "<div>\n",
       "<table border=\"1\" class=\"dataframe\">\n",
       "  <thead>\n",
       "    <tr>\n",
       "      <th></th>\n",
       "      <th colspan=\"2\" halign=\"left\">PassengerId</th>\n",
       "      <th colspan=\"2\" halign=\"left\">Fare</th>\n",
       "      <th colspan=\"2\" halign=\"left\">Age</th>\n",
       "    </tr>\n",
       "    <tr>\n",
       "      <th></th>\n",
       "      <th>count</th>\n",
       "      <th>mean</th>\n",
       "      <th>count</th>\n",
       "      <th>mean</th>\n",
       "      <th>count</th>\n",
       "      <th>mean</th>\n",
       "    </tr>\n",
       "    <tr>\n",
       "      <th>Cabin</th>\n",
       "      <th></th>\n",
       "      <th></th>\n",
       "      <th></th>\n",
       "      <th></th>\n",
       "      <th></th>\n",
       "      <th></th>\n",
       "    </tr>\n",
       "  </thead>\n",
       "  <tbody>\n",
       "    <tr>\n",
       "      <th>A</th>\n",
       "      <td>15</td>\n",
       "      <td>439.600000</td>\n",
       "      <td>15</td>\n",
       "      <td>39.623887</td>\n",
       "      <td>12</td>\n",
       "      <td>44.833333</td>\n",
       "    </tr>\n",
       "    <tr>\n",
       "      <th>B</th>\n",
       "      <td>47</td>\n",
       "      <td>521.808511</td>\n",
       "      <td>47</td>\n",
       "      <td>113.505764</td>\n",
       "      <td>45</td>\n",
       "      <td>34.955556</td>\n",
       "    </tr>\n",
       "    <tr>\n",
       "      <th>C</th>\n",
       "      <td>59</td>\n",
       "      <td>406.440678</td>\n",
       "      <td>59</td>\n",
       "      <td>100.151341</td>\n",
       "      <td>51</td>\n",
       "      <td>36.086667</td>\n",
       "    </tr>\n",
       "    <tr>\n",
       "      <th>D</th>\n",
       "      <td>33</td>\n",
       "      <td>475.939394</td>\n",
       "      <td>33</td>\n",
       "      <td>57.244576</td>\n",
       "      <td>31</td>\n",
       "      <td>39.032258</td>\n",
       "    </tr>\n",
       "    <tr>\n",
       "      <th>E</th>\n",
       "      <td>32</td>\n",
       "      <td>502.437500</td>\n",
       "      <td>32</td>\n",
       "      <td>46.026694</td>\n",
       "      <td>30</td>\n",
       "      <td>38.116667</td>\n",
       "    </tr>\n",
       "    <tr>\n",
       "      <th>F</th>\n",
       "      <td>13</td>\n",
       "      <td>370.384615</td>\n",
       "      <td>13</td>\n",
       "      <td>18.696792</td>\n",
       "      <td>11</td>\n",
       "      <td>19.954545</td>\n",
       "    </tr>\n",
       "    <tr>\n",
       "      <th>G</th>\n",
       "      <td>4</td>\n",
       "      <td>216.000000</td>\n",
       "      <td>4</td>\n",
       "      <td>13.581250</td>\n",
       "      <td>4</td>\n",
       "      <td>14.750000</td>\n",
       "    </tr>\n",
       "    <tr>\n",
       "      <th>T</th>\n",
       "      <td>1</td>\n",
       "      <td>340.000000</td>\n",
       "      <td>1</td>\n",
       "      <td>35.500000</td>\n",
       "      <td>1</td>\n",
       "      <td>45.000000</td>\n",
       "    </tr>\n",
       "  </tbody>\n",
       "</table>\n",
       "</div>"
      ],
      "text/plain": [
       "      PassengerId              Fare               Age           \n",
       "            count        mean count        mean count       mean\n",
       "Cabin                                                           \n",
       "A              15  439.600000    15   39.623887    12  44.833333\n",
       "B              47  521.808511    47  113.505764    45  34.955556\n",
       "C              59  406.440678    59  100.151341    51  36.086667\n",
       "D              33  475.939394    33   57.244576    31  39.032258\n",
       "E              32  502.437500    32   46.026694    30  38.116667\n",
       "F              13  370.384615    13   18.696792    11  19.954545\n",
       "G               4  216.000000     4   13.581250     4  14.750000\n",
       "T               1  340.000000     1   35.500000     1  45.000000"
      ]
     },
     "execution_count": 141,
     "metadata": {},
     "output_type": "execute_result"
    }
   ],
   "source": [
    "# deep dive into cabins\n",
    "# df['Cabin'] = df['Cabin'].str[:1]\n",
    "print(len(df))\n",
    "df[['Cabin','PassengerId', 'Fare', 'Age']].groupby(['Cabin']).agg(['count', 'mean'])\n"
   ]
  },
  {
   "cell_type": "code",
   "execution_count": 233,
   "metadata": {},
   "outputs": [
    {
     "name": "stdout",
     "output_type": "stream",
     "text": [
      "[ 0.09633003  0.2505596   0.29287026  0.          0.04602158  0.0375739\n",
      "  0.27664464]\n",
      "[  32.89170638   85.5531044   100.            0.           15.71398323\n",
      "   12.82953634   94.45979354]\n"
     ]
    }
   ],
   "source": [
    "FEATURES = ['Survived','Pclass', 'Sex', 'Age', 'Cabin', 'SibSp', 'Parch', 'Fare']\n",
    "\n",
    "\n",
    "data_df = pd.DataFrame.from_csv(\"train.csv\")\n",
    "\n",
    "data_df = data_df[pd.notnull(data_df['Age'])]\n",
    "data_df['Sex'] = data_df['Sex'].replace('male',1).replace('female',2)\n",
    "\n",
    "data_df['Cabin'] = data_df['Cabin'][1]\n",
    "data_df['Cabin'] = data_df['Cabin'].fillna(value='U')\n",
    "data_df['Cabin'] = data_df['Cabin'].replace('A',1).replace('B',2).replace('C',3).replace('D',4).replace('E',5).replace('F',6).replace('U',7)\n",
    "\n",
    "data_df.reset_index()\n",
    "\n",
    "data_df = data_df[FEATURES]\n",
    "\n",
    "X = data_df.values[:, 1::]\n",
    "y = data_df.values[:, 0]\n",
    "\n",
    "# Fit a random forest with (mostly) default parameters to determine feature importance\n",
    "forest = RandomForestClassifier(oob_score=True, n_estimators=10000)\n",
    "forest.fit(X, y)\n",
    "feature_importance = forest.feature_importances_\n",
    "print(feature_importance)\n",
    "\n",
    "# make importances relative to max importance\n",
    "feature_importance = 100.0 * (feature_importance / feature_importance.max())\n",
    "print(feature_importance)"
   ]
  },
  {
   "cell_type": "code",
   "execution_count": 244,
   "metadata": {},
   "outputs": [
    {
     "name": "stdout",
     "output_type": "stream",
     "text": [
      "[0 1 2 4 5 6]\n",
      "n 6 Important features(> 0 % of max importance):n ['Pclass' 'Sex' 'Age' 'Cabin' 'SibSp' 'Parch']\n",
      "nFeatures sorted by importance (DESC):n ['Age' 'Parch' 'Sex' 'Pclass' 'Cabin' 'SibSp']\n"
     ]
    },
    {
     "data": {
      "image/png": "[encoded data removed]",
      "text/plain": [
       "<matplotlib.figure.Figure at 0x114e2430>"
      ]
     },
     "metadata": {},
     "output_type": "display_data"
    },
    {
     "ename": "IndexError",
     "evalue": "index 5 is out of bounds for axis 1 with size 5",
     "output_type": "error",
     "traceback": [
      "\u001b[1;31m---------------------------------------------------------------------------\u001b[0m",
      "\u001b[1;31mIndexError\u001b[0m                                Traceback (most recent call last)",
      "\u001b[1;32m<ipython-input-244-34ace6311166>\u001b[0m in \u001b[0;36m<module>\u001b[1;34m()\u001b[0m\n\u001b[0;32m     27\u001b[0m \u001b[1;33m\u001b[0m\u001b[0m\n\u001b[0;32m     28\u001b[0m \u001b[1;31m# Remove non-important features from the feature set, and reorder those remaining\u001b[0m\u001b[1;33m\u001b[0m\u001b[1;33m\u001b[0m\u001b[0m\n\u001b[1;32m---> 29\u001b[1;33m \u001b[0mX\u001b[0m \u001b[1;33m=\u001b[0m \u001b[0mX\u001b[0m\u001b[1;33m[\u001b[0m\u001b[1;33m:\u001b[0m\u001b[1;33m,\u001b[0m \u001b[0mimportant_idx\u001b[0m\u001b[1;33m]\u001b[0m\u001b[1;33m[\u001b[0m\u001b[1;33m:\u001b[0m\u001b[1;33m,\u001b[0m \u001b[0msorted_idx\u001b[0m\u001b[1;33m]\u001b[0m\u001b[1;33m\u001b[0m\u001b[0m\n\u001b[0m",
      "\u001b[1;31mIndexError\u001b[0m: index 5 is out of bounds for axis 1 with size 5"
     ]
    }
   ],
   "source": [
    "\n",
    "# A threshold below which to drop features from the final data set. Specifically, this number represents\n",
    "# the percentage of the most important feature's importance value\n",
    "fi_threshold = 0\n",
    "\n",
    "# Get the indexes of all features over the importance threshold\n",
    "important_idx = np.where(feature_importance > fi_threshold)[0]\n",
    "print(important_idx)\n",
    "\n",
    "# Create a list of all the feature names above the importance threshold\n",
    "important_features = np.array(FEATURES[1:-1])\n",
    "print(\"n\", important_features.shape[0], \"Important features(>\", fi_threshold, \"% of max importance):n\", important_features)\n",
    "\n",
    "# Get the sorted indexes of important features\n",
    "sorted_idx = np.argsort(feature_importance[important_idx])[::-1]\n",
    "print(\"nFeatures sorted by importance (DESC):n\", important_features[sorted_idx])\n",
    "\n",
    "# Adapted from http://scikit-learn.org/stable/auto_examples/ensemble/plot_gradient_boosting_regression.html\n",
    "pos = np.arange(sorted_idx.shape[0]) + .5\n",
    "plt.subplot(1, 2, 2)\n",
    "plt.barh(pos, feature_importance[important_idx][sorted_idx[::-1]], align='center')\n",
    "plt.yticks(pos, important_features[sorted_idx[::-1]])\n",
    "plt.xlabel('Relative Importance')\n",
    "plt.title('Variable Importance')\n",
    "plt.draw()\n",
    "plt.show()\n",
    "\n",
    "# Remove non-important features from the feature set, and reorder those remaining\n",
    "X = X[:, important_idx][:, sorted_idx]"
   ]
  },
  {
   "cell_type": "code",
   "execution_count": 242,
   "metadata": {},
   "outputs": [
    {
     "name": "stdout",
     "output_type": "stream",
     "text": [
      "['Survived', 'Pclass', 'Sex', 'Age', 'Cabin', 'SibSp', 'Parch', 'Fare']\n",
      "['Pclass', 'Sex', 'Age', 'Cabin', 'SibSp', 'Parch']\n"
     ]
    }
   ],
   "source": [
    "print(FEATURES)\n",
    "print(FEATURES[1:-1])"
   ]
  }
 ],
 "metadata": {
  "kernelspec": {
   "display_name": "Python 3",
   "language": "python",
   "name": "python3"
  },
  "language_info": {
   "codemirror_mode": {
    "name": "ipython",
    "version": 3
   },
   "file_extension": ".py",
   "mimetype": "text/x-python",
   "name": "python",
   "nbconvert_exporter": "python",
   "pygments_lexer": "ipython3",
   "version": "3.5.2"
  }
 },
 "nbformat": 4,
 "nbformat_minor": 2
}
